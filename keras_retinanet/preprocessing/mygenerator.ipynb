{
 "cells": [
  {
   "cell_type": "code",
   "execution_count": null,
   "metadata": {},
   "outputs": [],
   "source": [
    "import numpy as np\n",
    "import random\n",
    "import warnings\n",
    "import keras\n",
    "\n",
    "\n",
    "from ..utils.anchors import (\n",
    "    anchor_targets_bbox,\n",
    "    anchors_for_shape,\n",
    "    guess_shapes\n",
    ")\n",
    "from ..utils.config import parse_anchor_parameters, parse_pyramid_levels\n",
    "from ..utils.image import (\n",
    "    TransformParameters,\n",
    "    adjust_transform_for_image,\n",
    "    apply_transform,\n",
    "    preprocess_image,\n",
    "    resize_image,\n",
    ")\n",
    "from ..utils.transform import transform_aabb"
   ]
  },
  {
   "cell_type": "code",
   "execution_count": null,
   "metadata": {},
   "outputs": [],
   "source": [
    "class myGenerator(keras.utils.Sequence):\n",
    "    \"\"\"absrtact generator class\"\"\"\n",
    "    def init(\n",
    "    \n",
    "    )"
   ]
  }
 ],
 "metadata": {
  "kernelspec": {
   "display_name": "Python 3",
   "language": "python",
   "name": "python3"
  },
  "language_info": {
   "codemirror_mode": {
    "name": "ipython",
    "version": 3
   },
   "file_extension": ".py",
   "mimetype": "text/x-python",
   "name": "python",
   "nbconvert_exporter": "python",
   "pygments_lexer": "ipython3",
   "version": "3.5.2"
  }
 },
 "nbformat": 4,
 "nbformat_minor": 4
}
